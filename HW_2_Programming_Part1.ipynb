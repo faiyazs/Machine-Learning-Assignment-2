{
 "cells": [
  {
   "cell_type": "markdown",
   "metadata": {},
   "source": [
    "# Machine Learning Assignment - 2"
   ]
  },
  {
   "cell_type": "markdown",
   "metadata": {},
   "source": [
    "## Part - II: Programming"
   ]
  },
  {
   "cell_type": "markdown",
   "metadata": {},
   "source": [
    "### by"
   ]
  },
  {
   "cell_type": "markdown",
   "metadata": {},
   "source": [
    "<b>Mohammed Ilyas Habeeb</b>- <i>mih278@nyu.edu<i> <br><b>Faiyaz Sundrani</b>- <i>fs1459@nyu.edu<i>"
   ]
  },
  {
   "cell_type": "code",
   "execution_count": 1,
   "metadata": {},
   "outputs": [],
   "source": [
    "import numpy as np\n",
    "import pandas as pd\n",
    "import matplotlib.pyplot as plt\n",
    "from pandas import Series, DataFrame\n",
    "import math"
   ]
  },
  {
   "cell_type": "markdown",
   "metadata": {},
   "source": [
    "# Loading the Data"
   ]
  },
  {
   "cell_type": "code",
   "execution_count": 2,
   "metadata": {},
   "outputs": [
    {
     "data": {
      "text/html": [
       "<div>\n",
       "<style>\n",
       "    .dataframe thead tr:only-child th {\n",
       "        text-align: right;\n",
       "    }\n",
       "\n",
       "    .dataframe thead th {\n",
       "        text-align: left;\n",
       "    }\n",
       "\n",
       "    .dataframe tbody tr th {\n",
       "        vertical-align: top;\n",
       "    }\n",
       "</style>\n",
       "<table border=\"1\" class=\"dataframe\">\n",
       "  <thead>\n",
       "    <tr style=\"text-align: right;\">\n",
       "      <th></th>\n",
       "      <th>displacement</th>\n",
       "      <th>horsepower</th>\n",
       "      <th>mpg</th>\n",
       "    </tr>\n",
       "  </thead>\n",
       "  <tbody>\n",
       "    <tr>\n",
       "      <th>0</th>\n",
       "      <td>307.0</td>\n",
       "      <td>130</td>\n",
       "      <td>18.0</td>\n",
       "    </tr>\n",
       "    <tr>\n",
       "      <th>1</th>\n",
       "      <td>350.0</td>\n",
       "      <td>165</td>\n",
       "      <td>15.0</td>\n",
       "    </tr>\n",
       "    <tr>\n",
       "      <th>2</th>\n",
       "      <td>318.0</td>\n",
       "      <td>150</td>\n",
       "      <td>18.0</td>\n",
       "    </tr>\n",
       "    <tr>\n",
       "      <th>3</th>\n",
       "      <td>304.0</td>\n",
       "      <td>150</td>\n",
       "      <td>16.0</td>\n",
       "    </tr>\n",
       "    <tr>\n",
       "      <th>4</th>\n",
       "      <td>302.0</td>\n",
       "      <td>140</td>\n",
       "      <td>17.0</td>\n",
       "    </tr>\n",
       "  </tbody>\n",
       "</table>\n",
       "</div>"
      ],
      "text/plain": [
       "   displacement  horsepower   mpg\n",
       "0         307.0         130  18.0\n",
       "1         350.0         165  15.0\n",
       "2         318.0         150  18.0\n",
       "3         304.0         150  16.0\n",
       "4         302.0         140  17.0"
      ]
     },
     "execution_count": 2,
     "metadata": {},
     "output_type": "execute_result"
    }
   ],
   "source": [
    "#Loading the Dataset\n",
    "\n",
    "data_train = pd.read_csv('auto_train.csv')\n",
    "data_test = pd.read_csv('auto_test.csv')\n",
    "\n",
    "data_train.head()"
   ]
  },
  {
   "cell_type": "markdown",
   "metadata": {},
   "source": [
    "## Linear Regression"
   ]
  },
  {
   "cell_type": "markdown",
   "metadata": {},
   "source": [
    "1. Plot the data in the training set (with displacement on the horizontal axis, and mpg on the vertical axis)."
   ]
  },
  {
   "cell_type": "code",
   "execution_count": 3,
   "metadata": {},
   "outputs": [
    {
     "data": {
      "image/png": "[encoded data removed]",
      "text/plain": [
       "<matplotlib.figure.Figure at 0x10c5cda90>"
      ]
     },
     "metadata": {},
     "output_type": "display_data"
    }
   ],
   "source": [
    "x = data_train['displacement']\n",
    "y = data_train['mpg']\n",
    "plt.plot(x, y, 'ro', color = 'b')\n",
    "plt.xlabel('Displacement')\n",
    "plt.ylabel('Miles per Gallon')\n",
    "plt.title('Graph')\n",
    "plt.show()"
   ]
  },
  {
   "cell_type": "markdown",
   "metadata": {},
   "source": [
    "2.Using simple linear regression, train a linear function to predict mpg based\n",
    "on displacement only, using the training data."
   ]
  },
  {
   "cell_type": "code",
   "execution_count": 4,
   "metadata": {},
   "outputs": [],
   "source": [
    "def squared_Error_Function(predicted_value, actual_value):\n",
    "    '''\n",
    "    i/p:\n",
    "    predicted_value -> a list\n",
    "    actual_value -> a list\n",
    "    o/p:\n",
    "    squared_error -> a float\n",
    "    '''\n",
    "    diff = 0\n",
    "    for i, j in zip(predicted_value, actual_value):\n",
    "        diff += (i - j)**2\n",
    "    error_value = (1/2)* diff #(1/(2*len(predicted_value)))* diff\n",
    "    #error_value = (1/(2*len(predicted_value)))* diff\n",
    "    \n",
    "    return error_value"
   ]
  },
  {
   "cell_type": "code",
   "execution_count": 5,
   "metadata": {},
   "outputs": [
    {
     "name": "stdout",
     "output_type": "stream",
     "text": [
      "Training Error: 1557.33\n",
      "Testing Error: 3565.76\n"
     ]
    }
   ],
   "source": [
    "#Modeling a Linear Regression with one variable\n",
    "from sklearn import linear_model\n",
    "from sklearn.metrics import mean_squared_error\n",
    "\n",
    "#Taking the attribute and the output for training from data_train\n",
    "X_train = data_train['displacement'].values.reshape(-1, 1) #Reshaping as we have only one attribute\n",
    "y_train = data_train['mpg'] #.values.reshape(-1, 1)\n",
    "\n",
    "#Taking the attribute and the output for testing from data_test\n",
    "X_test = data_test['displacement'].values.reshape(-1, 1) #Reshaping as we have only one attribute\n",
    "y_test = data_test['mpg'] #.values.reshape(-1, 1)\n",
    "\n",
    "simple_linear_regression = linear_model.LinearRegression()\n",
    "\n",
    "simple_linear_regression.fit(X_train, y_train)\n",
    "\n",
    "y_pred_test = simple_linear_regression.predict(X_test)\n",
    "\n",
    "y_pred_train = simple_linear_regression.predict(X_train)\n",
    "\n",
    "print(\"Training Error: %.2f\" % squared_Error_Function(y_pred_train, y_train))\n",
    "print(\"Testing Error: %.2f\" % squared_Error_Function(y_pred_test, y_test))\n"
   ]
  },
  {
   "cell_type": "code",
   "execution_count": 6,
   "metadata": {},
   "outputs": [
    {
     "data": {
      "image/png": "[encoded data removed]",
      "text/plain": [
       "<matplotlib.figure.Figure at 0x10f983668>"
      ]
     },
     "metadata": {},
     "output_type": "display_data"
    }
   ],
   "source": [
    "plt.scatter(X_test, y_test,  color='blue')\n",
    "plt.plot(X_test, y_pred_test, color='red', linewidth=3)\n",
    "\n",
    "# plt.xticks(())\n",
    "# plt.yticks(())\n",
    "\n",
    "plt.xlabel('Displacement')\n",
    "plt.ylabel('Miles per Gallon')\n",
    "plt.title('Linear Regression with One Variable')\n",
    "plt.show()"
   ]
  },
  {
   "cell_type": "markdown",
   "metadata": {},
   "source": [
    "3.Do polynomial regression: train polynomials of degree 2 and 4 and 6 to predict mpg based on displacement only, using the training data. Plot the 3 resulting curves and report the training and test errors in both cases (squared error Err). Do you see evidence of overfitting? Package allowed."
   ]
  },
  {
   "cell_type": "code",
   "execution_count": 7,
   "metadata": {},
   "outputs": [],
   "source": [
    "from sklearn.preprocessing import PolynomialFeatures\n",
    "def polynomialRegressionCalculation(degree, X_train, y_train, X_test, y_test):\n",
    "    '''\n",
    "    i/p:\n",
    "    degree - degree of the polynomial, an int\n",
    "    X_train, y_train - attributes and output in training dataset, lists\n",
    "    X_test, y_test - attributes and output in testing dataset, lists\n",
    "    '''\n",
    "    poly = PolynomialFeatures(degree)\n",
    "    \n",
    "    X_train_transformed = poly.fit_transform(X_train)\n",
    "    X_test_transformed = poly.fit_transform(X_test)\n",
    "    \n",
    "    lg = linear_model.LinearRegression()\n",
    "    \n",
    "    lg.fit(X_train_transformed, y_train)\n",
    "    \n",
    "    #poly.fit_transform(X_train, y_train)\n",
    "    \n",
    "    y_pred_test = lg.predict(X_test_transformed)\n",
    "\n",
    "    y_pred_train = lg.predict(X_train_transformed)\n",
    "    \n",
    "    train_error = squared_Error_Function(y_pred_train, y_train)\n",
    "    test_error = squared_Error_Function(y_pred_test, y_test)\n",
    "    \n",
    "#     plt.scatter(X_test_transformed, y_test)\n",
    "#     plt.plot(X_test_transformed, y_pred_test, color='red', linewidth=3)\n",
    "#     plt.xlabel('Displacement with degree', degree)\n",
    "#     plt.ylabel('Miles per Gallon')\n",
    "#     plt.title('Polynomial Regression with One Variable')\n",
    "#     plt.show()\n",
    "    \n",
    "    return y_pred_test, y_pred_train, train_error, test_error, X_test_transformed"
   ]
  },
  {
   "cell_type": "code",
   "execution_count": 8,
   "metadata": {},
   "outputs": [
    {
     "name": "stdout",
     "output_type": "stream",
     "text": [
      "Training Error for degree 2 is: 1296.01058799\n",
      "Testing Error for degree 2 is: 3282.09475116\n",
      "Training Error for degree 4 is: 1242.23889296\n",
      "Testing Error for degree 4 is: 3411.64000136\n",
      "Training Error for degree 6 is: 1219.71902014\n",
      "Testing Error for degree 6 is: 3445.12492549\n"
     ]
    },
    {
     "data": {
      "image/png": "[encoded data removed]",
      "text/plain": [
       "<matplotlib.figure.Figure at 0x111d06da0>"
      ]
     },
     "metadata": {},
     "output_type": "display_data"
    }
   ],
   "source": [
    "plt.figure(figsize=(20,10))\n",
    "plt.scatter(X_test, y_test,  color='blue')\n",
    "color_list = ['y', 'r', 'k']\n",
    "degree_list = [2, 4, 6]\n",
    "for i,j in zip(degree_list, color_list):\n",
    "\n",
    "    testing_prediction_poly, training_prediction_poly, training_error_poly, testing_error_poly, X_test_transformed = polynomialRegressionCalculation(i, X_train, y_train, X_test, y_test)\n",
    "\n",
    "    print(\"Training Error for degree\", i, \"is:\", training_error_poly)\n",
    "    print(\"Testing Error for degree\", i, \"is:\", testing_error_poly)\n",
    "    p=zip(*sorted(zip(*(X_test, testing_prediction_poly))))\n",
    "    \n",
    "    plt.plot(*p, color = j, linewidth = 2, label = 'Line with Degree ' + str(i))\n",
    "\n",
    "\n",
    "plt.xlabel('Displacement')\n",
    "plt.ylabel('Miles per Gallon')\n",
    "plt.legend()\n",
    "plt.title('Polynomial Regression with One Variable')\n",
    "plt.show()"
   ]
  },
  {
   "cell_type": "markdown",
   "metadata": {},
   "source": [
    "4.Do multiple linear regression: Train a linear function on the training set, using both input attributes, horsepower and displacement. Report the squared error Err on the test set only. Package allowed."
   ]
  },
  {
   "cell_type": "code",
   "execution_count": 9,
   "metadata": {},
   "outputs": [
    {
     "name": "stdout",
     "output_type": "stream",
     "text": [
      "Testing Error: 3443.39\n"
     ]
    }
   ],
   "source": [
    "#Taking the attribute and the output for training from data_train\n",
    "X_train_mult = data_train.drop('mpg', axis = 1)\n",
    "y_train_mult = data_train['mpg']\n",
    "\n",
    "\n",
    "#Taking the attribute and the output for testing from data_test\n",
    "X_test_mult = data_test.drop('mpg', axis = 1)\n",
    "y_test_mult = data_test['mpg']\n",
    "\n",
    "mult_linear_regression = linear_model.LinearRegression()\n",
    "\n",
    "mult_linear_regression.fit(X_train_mult, y_train_mult)\n",
    "\n",
    "y_pred_mult_test = mult_linear_regression.predict(X_test_mult)\n",
    "\n",
    "\n",
    "print(\"Testing Error: %.2f\" % squared_Error_Function(y_pred_mult_test, y_test_mult))"
   ]
  },
  {
   "cell_type": "markdown",
   "metadata": {},
   "source": [
    "## K Nearest Neighbors"
   ]
  },
  {
   "cell_type": "markdown",
   "metadata": {},
   "source": [
    "5.Implement k Nearest Neighbor from scratch (do not use a package). Using the data in the training set, predict the output for each example in the test, for k = 1, k = 3, and k = 20 (so you will run the algorithm 3 times, once for each value of k). Report the squared error Err on the test set."
   ]
  },
  {
   "cell_type": "markdown",
   "metadata": {},
   "source": [
    "and"
   ]
  },
  {
   "cell_type": "markdown",
   "metadata": {},
   "source": [
    "7.a.)Use different distance function and b.)weighted average for kNN <br><b> Distance Function <b> - <b> Manhattan Distance </b> using weighted average"
   ]
  },
  {
   "cell_type": "markdown",
   "metadata": {},
   "source": [
    "###  KNN Implementation from Scratch"
   ]
  },
  {
   "cell_type": "code",
   "execution_count": 10,
   "metadata": {},
   "outputs": [],
   "source": [
    "def EuclideanCalculation(x1, x2, y1, y2):\n",
    "    \n",
    "    res = ( (x1 - y1)**2 + (x2 - y2)**2)\n",
    "    final = math.sqrt(res)\n",
    "    \n",
    "    return final"
   ]
  },
  {
   "cell_type": "code",
   "execution_count": 11,
   "metadata": {},
   "outputs": [],
   "source": [
    "def ManhattanCalculation(x1, x2, y1, y2):\n",
    "    a = x1 - y1\n",
    "    b = x2 - y2\n",
    "    if a < 0:\n",
    "        a =(-1) * a\n",
    "    \n",
    "    if b < 0:\n",
    "        b =(-1)*b\n",
    "    \n",
    "    res = a + b\n",
    "    \n",
    "    \n",
    "    return res"
   ]
  },
  {
   "cell_type": "code",
   "execution_count": 20,
   "metadata": {},
   "outputs": [],
   "source": [
    "\n",
    "def kNearestNeighbor(k, train_data, test_data, label):\n",
    "    '''\n",
    "    i/p:\n",
    "    k - an int,\n",
    "    train_data - the training data, a dataset\n",
    "    test_data - the testing data, a dataset \n",
    "    label - the output column, a string\n",
    "    o/p:\n",
    "    predictions - the predictions made on the output column of test data, a list\n",
    "    '''\n",
    "    #Getting X (attributes) and y (output) of training data\n",
    "    X_train_kNN = train_data.drop(label, axis = 1)\n",
    "    y_train_kNN = train_data[label]\n",
    "    \n",
    "    #Getting X (attributes) and y (output) of test data\n",
    "    X_test_kNN = test_data.drop(label, axis = 1)\n",
    "    y_test_kNN = test_data[label]\n",
    "    \n",
    "    #Getting first and second attributes from X of training data\n",
    "    train_first_attr = X_train_kNN[X_train_kNN.columns[0]]\n",
    "    train_second_attr = X_train_kNN[X_train_kNN.columns[1]]\n",
    "    \n",
    "    #Getting first and second attributes from X of test data\n",
    "    test_first_attr = X_test_kNN[X_test_kNN.columns[0]]\n",
    "    test_second_attr = X_test_kNN[X_test_kNN.columns[1]]\n",
    "    \n",
    "    #A list to store predictions\n",
    "    Pred_euclidean = []\n",
    "    Pred_manhattan = []\n",
    "    \n",
    "    \n",
    "    #Iterating over the test attributes\n",
    "    for i, j in zip(test_first_attr, test_second_attr):\n",
    "        #A list to store the Euclidean distances\n",
    "        Euclidean = []\n",
    "        Manhattan=[]\n",
    "       \n",
    "        \n",
    "        #Iterating over the train attributes\n",
    "        for l, m in zip(train_first_attr, train_second_attr):\n",
    "            #res = ( (i - l)**2 + (j - m)**2 )\n",
    "            \n",
    "            #Calculating the Euclidean distance of attributes from test and training\n",
    "            res = EuclideanCalculation(i, j, l, m)\n",
    "            res1 = ManhattanCalculation(i,j,l,m)\n",
    "            \n",
    "            #Appending the distances to the list\n",
    "            Euclidean.append(res)\n",
    "            Manhattan.append(res1)\n",
    "            \n",
    "        if k == 1:\n",
    "            #Getting the index of the minimum Euclidean distance\n",
    "            min_distance_index_euclidean = Euclidean.index(min(Euclidean))\n",
    "            min_distance_index_man = Manhattan.index(min(Manhattan))\n",
    "            \n",
    "            \n",
    "            #Corresponding to that index, fetch the value of the y_train_kNN; this is the predicted value\n",
    "            ele_to_consider_euclidean = y_train_kNN.get_value(min_distance_index_euclidean)\n",
    "            ele_to_consider_manhattan = y_train_kNN.get_value(min_distance_index_man)\n",
    "            \n",
    "        elif k > 1:\n",
    "            \n",
    "            #Sorting the distance list and retrieving their corresponding indices\n",
    "            intermediate_eu = sorted(range(len(Euclidean)), key = lambda ind: Euclidean[ind])\n",
    "            intermediate_man = sorted(range(len(Manhattan)), key = lambda ind: Manhattan[ind])\n",
    "            \n",
    "            #Select only the first k indices of intermediate\n",
    "            indices_to_consider_eu = intermediate_eu[0:k]\n",
    "            indices_to_consider_man = intermediate_man[0:k]\n",
    "            \n",
    "#             calc_dist = sorted(Manhattan)\n",
    "#             dist_to_consider = calc_dist[0:k]\n",
    "            \n",
    "            #Corresponding to the above indices, fetch the values of the y_train_kNN\n",
    "            inter_list_eu = list(y_train_kNN.iloc[indices_to_consider_eu])\n",
    "            inter_list_man = list(y_train_kNN.iloc[indices_to_consider_man])\n",
    "            \n",
    "            #Getting the avg of inter_list; this is the predicted value\n",
    "            ele_to_consider_euclidean = sum(inter_list_eu) / k\n",
    "            ele_to_consider_manhattan = sum(inter_list_man) / k\n",
    "#             d_sum = 0\n",
    "#             rd_sum = 0\n",
    "#             for d, r in zip(dist_to_consider, inter_list_man):\n",
    "                \n",
    "#                 if d != 0: \n",
    "#                     d_sum += 1/d\n",
    "#                     rd_sum += (1/d) * r\n",
    "                    \n",
    "            \n",
    "            \n",
    "            \n",
    "#             if d_sum == 0 or rd_sum ==0:\n",
    "#                 ele_to_consider_manhattan = 0\n",
    "#             else:\n",
    "#                 ele_to_consider_manhattan = rd_sum / d_sum\n",
    "            \n",
    "            \n",
    "        \n",
    "        #Appending the predicted value to Pred\n",
    "        Pred_euclidean.append(ele_to_consider_euclidean)\n",
    "        Pred_manhattan.append(ele_to_consider_manhattan)\n",
    "    return Pred_euclidean,Pred_manhattan"
   ]
  },
  {
   "cell_type": "code",
   "execution_count": 22,
   "metadata": {
    "scrolled": false
   },
   "outputs": [
    {
     "name": "stdout",
     "output_type": "stream",
     "text": [
      "Test Error for Euclidean Distance with K = 1 is: 2868.005\n",
      "Test Error for Manhattan Distance with K = 1 is: 2838.83\n",
      "Test Error for Euclidean Distance with K = 3 is: 2794.73\n",
      "Test Error for Manhattan Distance with K = 3 is: 2676.45277778\n",
      "Test Error for Euclidean Distance with K = 20 is: 2746.1914125\n",
      "Test Error for Manhattan Distance with K = 20 is: 2800.3250375\n"
     ]
    }
   ],
   "source": [
    "#k values to consider\n",
    "k_values = [1, 3, 20]\n",
    "\n",
    "data_test2 = data_test.copy()\n",
    "#For each value in k values\n",
    "for k in k_values:\n",
    "    \n",
    "    #Getting the predictions\n",
    "    predictions_euclidean, predictions_manhattan = kNearestNeighbor(k, data_train, data_test, 'mpg')\n",
    "    \n",
    "    #Calculating test error\n",
    "    test_kNN_Error_eu = squared_Error_Function(predictions_euclidean, data_test['mpg'])\n",
    "    test_kNN_Error_man = squared_Error_Function(predictions_manhattan, data_test['mpg'])\n",
    "  \n",
    "    \n",
    "    #printing the test error\n",
    "    print(\"Test Error for Euclidean Distance with K =\", k, \"is:\", test_kNN_Error_eu)\n",
    "    \n",
    "    print(\"Test Error for Manhattan Distance with K =\", k, \"is:\", test_kNN_Error_man)\n",
    " \n",
    "    \n",
    "    \n",
    "    #Adding prediction lists as column \n",
    "    name = 'Predicted_Euclidean_'+str(k)\n",
    "    data_test2[name] = predictions_euclidean\n",
    "    \n",
    "    name = 'Predicted_Manhattan_'+str(k)\n",
    "    data_test2[name] = predictions_manhattan\n",
    "  "
   ]
  },
  {
   "cell_type": "markdown",
   "metadata": {},
   "source": [
    "6.Did k Nearest Neighbor perform better with k = 3 or with k = 20? Why do you think that happened?\n",
    "\n",
    "<br><b> Answer :</b> K Nearest Neightbor performed better with k=20 <br>\n",
    "<b>Reason:- </b> K Nearest Neighbour performs better with K= 20 <br>When the value of K is too small, it becomes a complex model, exhibiting low bias and high variance. It overfits and is susceptible to noise and outliers. <br> <br>When the value of K is too large, it becomes a simple model, exhibiting high bias and low variance. It underfits.<br> <br>In this case, the value of K=20 is neither too large nor too small. Thus, it is resilient to noise and outliers. And that is why, the test error is smaller for K=20."
   ]
  },
  {
   "cell_type": "markdown",
   "metadata": {},
   "source": [
    "### Implementing kNN with Sk-Learn"
   ]
  },
  {
   "cell_type": "code",
   "execution_count": 17,
   "metadata": {},
   "outputs": [
    {
     "name": "stdout",
     "output_type": "stream",
     "text": [
      "Test Error according to Sk-Learn at k =  1 is 2802.655\n",
      "Test Error according to Sk-Learn at k =  3 is 2754.655\n",
      "Test Error according to Sk-Learn at k =  20 is 2745.9197\n"
     ]
    }
   ],
   "source": [
    "from sklearn.neighbors import KNeighborsRegressor\n",
    "\n",
    "kk = [1, 3, 20]\n",
    "\n",
    "X_train_kNN = data_train.drop('mpg', axis = 1)\n",
    "y_train_kNN = data_train['mpg']\n",
    "\n",
    "X_test_kNN = data_test.drop('mpg', axis = 1)\n",
    "y_test_kNN = data_test['mpg']\n",
    "    \n",
    "for i in kk:\n",
    "    \n",
    "    neigh = KNeighborsRegressor(n_neighbors=i)\n",
    "\n",
    "    neigh.fit(X_train_kNN, y_train_kNN)\n",
    "\n",
    "\n",
    "    print(\"Test Error according to Sk-Learn at k = \", i, \"is\", squared_Error_Function(neigh.predict(X_test_kNN), y_test_kNN))\n"
   ]
  },
  {
   "cell_type": "code",
   "execution_count": null,
   "metadata": {},
   "outputs": [],
   "source": []
  },
  {
   "cell_type": "code",
   "execution_count": null,
   "metadata": {},
   "outputs": [],
   "source": []
  }
 ],
 "metadata": {
  "kernelspec": {
   "display_name": "Python 3",
   "language": "python",
   "name": "python3"
  },
  "language_info": {
   "codemirror_mode": {
    "name": "ipython",
    "version": 3
   },
   "file_extension": ".py",
   "mimetype": "text/x-python",
   "name": "python",
   "nbconvert_exporter": "python",
   "pygments_lexer": "ipython3",
   "version": "3.6.1"
  }
 },
 "nbformat": 4,
 "nbformat_minor": 2
}
